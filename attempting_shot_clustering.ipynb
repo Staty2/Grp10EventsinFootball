{
 "cells": [
  {
   "cell_type": "code",
   "execution_count": 98,
   "id": "05f9ab8b",
   "metadata": {},
   "outputs": [],
   "source": [
    "from statsbombpy import sb\n",
    "import numpy as np\n",
    "import pandas as pd\n",
    "import matplotlib.pyplot as plt\n",
    "from mplsoccer import Pitch, VerticalPitch\n",
    "import ast\n",
    "import warnings\n",
    "warnings.filterwarnings('ignore')\n",
    "from sklearn.cluster import KMeans\n",
    "from sklearn import preprocessing\n",
    "import seaborn as sns"
   ]
  },
  {
   "cell_type": "code",
   "execution_count": 32,
   "id": "211833ed",
   "metadata": {},
   "outputs": [],
   "source": [
    "competitions = sb.competitions()\n",
    "#Combining all 3 seasons into one dataframe\n",
    "matches2021 = sb.matches(competition_id=37, season_id = 90) #a specific season of the womens FA Super League, also use season ID 90 (20-21), 42 (19-20),4(18-19)\n",
    "matches1920 = sb.matches(competition_id=37, season_id = 42)\n",
    "matches1819 = sb.matches(competition_id=37, season_id = 4)\n",
    "frames = [matches1819, matches1920, matches2021]\n",
    "FAWSL = pd.concat(frames)\n",
    "#FAWSL = df.FAWSL\n"
   ]
  },
  {
   "cell_type": "code",
   "execution_count": 33,
   "id": "9efe9336",
   "metadata": {},
   "outputs": [],
   "source": [
    "#print(FAWSL)\n",
    "#events = sb.competition_events(home_team= 'Chelsea FCW', away_team= 'Arsenal WFC')\n"
   ]
  },
  {
   "cell_type": "code",
   "execution_count": 34,
   "id": "d23af0db",
   "metadata": {},
   "outputs": [],
   "source": [
    "def findingallmatches(team1, team2, dataframe):\n",
    "    '''\n",
    "    findingallmatches('Manchester City WFC','Chelsea FCW', FAWSL)\n",
    "    '''\n",
    "    match_ids = []\n",
    "    \n",
    "    for index, row in dataframe.iterrows():\n",
    "        # Check if the home team is team1 and the away team is team2\n",
    "        if row['home_team'] == team1 and row['away_team'] == team2:\n",
    "            # Print the match ID if the teams match\n",
    "            match_id = row['match_id']\n",
    "            match_ids.append(match_id)\n",
    "        elif row['home_team'] == team2 and row['away_team'] == team1:\n",
    "            # Otherwise, print a message indicating that the teams do not match\n",
    "            match_id = row['match_id']\n",
    "            match_ids.append(match_id)\n",
    "    \n",
    "    return match_ids\n"
   ]
  },
  {
   "cell_type": "code",
   "execution_count": 87,
   "id": "7bb99fe2",
   "metadata": {},
   "outputs": [
    {
     "name": "stdout",
     "output_type": "stream",
     "text": [
      "[19736, 19785, 2275063, 2275090, 3775548, 3775627]\n"
     ]
    }
   ],
   "source": [
    "team1 = 'Arsenal WFC'\n",
    "team2 = 'Chelsea FCW'\n",
    "match_ids= findingallmatches(team1, team2, FAWSL)\n",
    "print(match_ids)"
   ]
  },
  {
   "cell_type": "code",
   "execution_count": 93,
   "id": "f2eedf79",
   "metadata": {},
   "outputs": [],
   "source": [
    "#create a df of all the matches from the ids\n",
    "# this does not work\n",
    "def findingtheevent(match_ids):\n",
    "    events = []\n",
    "    for i in range(len(match_ids)):\n",
    "        match = sb.events(match_id = i)\n",
    "    return events"
   ]
  },
  {
   "cell_type": "code",
   "execution_count": 95,
   "id": "2df25a15",
   "metadata": {},
   "outputs": [],
   "source": [
    "#\n",
    "#allmatches = findingtheevent(match_ids)\n",
    "\n",
    "#print(sb.events(match_id=19736))"
   ]
  },
  {
   "cell_type": "code",
   "execution_count": 96,
   "id": "1607daf4",
   "metadata": {},
   "outputs": [],
   "source": [
    "shots = allmatches[['match_id','shot_statsbomb_xg','timestamp', 'team', 'location', 'shot_outcome', 'shot_end_location']].dropna()\n",
    "\n",
    "#print(shots)\n",
    "shots['x1'] = shots.location.apply(lambda x: x[0])\n",
    "shots['x2'] = shots.location.apply(lambda x: x[1])\n",
    "shots['y1'] = shots.shot_end_location.apply(lambda x: x[0])\n",
    "shots['y2']=  shots.shot_end_location.apply(lambda x: x[1])\n",
    "\n",
    "shots['distance'] = np.sqrt(((shots['x2']-shots['x1']))**2+((shots['y2'])-(shots['y1'])))\n",
    "\n",
    "T1_shots = shots.loc[shots['team']== team1]\n",
    "T1_goal = T1_shots.loc[T1_shots['shot_outcome']=='Goal']\n",
    "T1_miss = T1_shots.loc[T1_shots['shot_outcome']!='Goal']\n",
    "\n",
    "T2_shots = shots.loc[shots['team']== team2]\n",
    "T2_goal = T2_shots.loc[T2_shots['shot_outcome']=='Goal']\n",
    "T2_miss = T2_shots.loc[T2_shots['shot_outcome']!='Goal']"
   ]
  },
  {
   "cell_type": "code",
   "execution_count": 119,
   "id": "c1820e92",
   "metadata": {},
   "outputs": [],
   "source": [
    "#shots = shots.drop(shots.loc[(shots['x2']==0) & (shots['y2']==0)].index)\n",
    "#shots = shots.drop(shots.loc[(shots['x2']==105) & (shots['y2']==68)].index)\n",
    "#not sure why this is relevant\n",
    "\n",
    "\n",
    "X = shots[['x1','x2','y1','y2','distance']]\n",
    "scaler = preprocessing.StandardScaler().fit(X)\n",
    "X_scaled = scaler.transform(X)\n"
   ]
  },
  {
   "cell_type": "code",
   "execution_count": 120,
   "id": "d20b9c52",
   "metadata": {},
   "outputs": [],
   "source": [
    "km = KMeans(n_clusters=10)\n",
    "km = km.fit(X_scaled)"
   ]
  },
  {
   "cell_type": "code",
   "execution_count": 121,
   "id": "e908e3fb",
   "metadata": {},
   "outputs": [
    {
     "data": {
      "text/plain": [
       "0.49244064569070417"
      ]
     },
     "execution_count": 121,
     "metadata": {},
     "output_type": "execute_result"
    }
   ],
   "source": [
    "km.inertia_/len(shots)"
   ]
  },
  {
   "cell_type": "code",
   "execution_count": 122,
   "id": "5aed7d91",
   "metadata": {},
   "outputs": [],
   "source": [
    "clusters = km.fit_predict(X_scaled)"
   ]
  },
  {
   "cell_type": "code",
   "execution_count": 123,
   "id": "7218fe09",
   "metadata": {},
   "outputs": [],
   "source": [
    "shots ['clusters']= clusters"
   ]
  },
  {
   "cell_type": "code",
   "execution_count": 124,
   "id": "f07ad975",
   "metadata": {},
   "outputs": [],
   "source": [
    "shots.to_csv('shots_clusters.csv',index = False)"
   ]
  },
  {
   "cell_type": "code",
   "execution_count": 125,
   "id": "c1d79e75",
   "metadata": {},
   "outputs": [],
   "source": [
    "shots = shots.sample(frac=1)"
   ]
  },
  {
   "cell_type": "code",
   "execution_count": null,
   "id": "fa50b3f0",
   "metadata": {},
   "outputs": [],
   "source": [
    "pitch = Pitch(pitch_type='custom',half=False, goal_type='box', pitch_color='#f5f5f5', line_color='#696969' ,linewidth=2,pitch_length=105, pitch_width=68)\n",
    "fig, axs = pitch.draw(nrows=10, ncols=5, figsize=(20,20))\n",
    "for i in range(10):\n",
    "    for j in range(5):\n",
    "        cluster_analysis = shots.loc[shots['clusters']==(5*i + j)][:10]\n",
    "        cluster_analysis.index = np.arange(0,3,1)\n",
    "        axs[i,j].invert_yaxis()\n",
    "        for k in range(len(cluster_analysis)):\n",
    "                axs[i,j].plot([cluster_analysis['x1'][k],cluster_analysis['x2'][k]],[cluster_analysis['y1'][k],cluster_analysis['y2'][k]], color='blue')\n",
    "        \n",
    "        sns.scatterplot(data=cluster_analysis,x='x1',y='y1',color='blue',ax=axs[i,j])\n",
    "        axs[i,j].set_title(str((5*i+j)))\n",
    "plt.savefig('shot_clusters.png')"
   ]
  },
  {
   "cell_type": "code",
   "execution_count": null,
   "id": "9ac13c99",
   "metadata": {},
   "outputs": [],
   "source": []
  }
 ],
 "metadata": {
  "kernelspec": {
   "display_name": "Python 3 (ipykernel)",
   "language": "python",
   "name": "python3"
  },
  "language_info": {
   "codemirror_mode": {
    "name": "ipython",
    "version": 3
   },
   "file_extension": ".py",
   "mimetype": "text/x-python",
   "name": "python",
   "nbconvert_exporter": "python",
   "pygments_lexer": "ipython3",
   "version": "3.11.2"
  }
 },
 "nbformat": 4,
 "nbformat_minor": 5
}
